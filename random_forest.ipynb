{
 "cells": [
  {
   "cell_type": "code",
   "execution_count": 1,
   "metadata": {
    "collapsed": false
   },
   "outputs": [
    {
     "name": "stderr",
     "output_type": "stream",
     "text": [
      "/Users/danielfriar/anaconda/lib/python2.7/site-packages/sklearn/cross_validation.py:44: DeprecationWarning: This module was deprecated in version 0.18 in favor of the model_selection module into which all the refactored classes and functions are moved. Also note that the interface of the new CV iterators are different from that of this module. This module will be removed in 0.20.\n",
      "  \"This module will be removed in 0.20.\", DeprecationWarning)\n"
     ]
    }
   ],
   "source": [
    "from __future__ import division\n",
    "import numpy as np\n",
    "import pandas as pd\n",
    "import matplotlib.pyplot as plt\n",
    "\n",
    "from sklearn.model_selection import train_test_split\n",
    "from sklearn.datasets import make_classification\n",
    "from sklearn.ensemble import ExtraTreesClassifier\n",
    "from sklearn.ensemble import RandomForestClassifier\n",
    "from sklearn.cross_validation import cross_val_score\n",
    "from sklearn.model_selection import GridSearchCV"
   ]
  },
  {
   "cell_type": "code",
   "execution_count": 2,
   "metadata": {
    "collapsed": true
   },
   "outputs": [],
   "source": [
    "def accuracy(pred, actual):\n",
    "    \"\"\"Returns percentage of correctly classified labels\"\"\"\n",
    "    return sum(pred==actual) / len(actual)"
   ]
  },
  {
   "cell_type": "code",
   "execution_count": 3,
   "metadata": {
    "collapsed": false
   },
   "outputs": [],
   "source": [
    "# Import data and split out labels\n",
    "train = pd.read_csv('data/train.csv')\n",
    "test = pd.read_csv('data/test.csv')\n",
    "\n",
    "# Split into labels, names and data\n",
    "y_train = train['class']\n",
    "names_train = train['name']\n",
    "X_train = train.drop(['class', 'name', 'sequence'], axis=1)\n",
    "\n",
    "y_test = test['class']\n",
    "names_train = test['name']\n",
    "X_test = test.drop(['class', 'name', 'sequence'], axis=1)\n",
    "\n",
    "# Further split train into train and validation sets\n",
    "# X_train, X_val, y_train, y_val = train_test_split(X_train, y_train, test_size=.20, random_state=0)"
   ]
  },
  {
   "cell_type": "code",
   "execution_count": 4,
   "metadata": {
    "collapsed": false
   },
   "outputs": [
    {
     "name": "stdout",
     "output_type": "stream",
     "text": [
      "Fitting 10 folds for each of 9 candidates, totalling 90 fits\n",
      "#-------- DONE WITH GRID SEARCH."
     ]
    },
    {
     "name": "stderr",
     "output_type": "stream",
     "text": [
      "[Parallel(n_jobs=1)]: Done  90 out of  90 | elapsed:   45.0s finished\n",
      "/Users/danielfriar/anaconda/lib/python2.7/site-packages/sklearn/model_selection/_search.py:667: DeprecationWarning: The grid_scores_ attribute was deprecated in version 0.18 in favor of the more elaborate cv_results_ attribute. The grid_scores_ attribute will not be available from 0.20\n",
      "  DeprecationWarning)\n"
     ]
    },
    {
     "name": "stdout",
     "output_type": "stream",
     "text": [
      "\n",
      "{'max_features': 9, 'n_estimators': 20, 'n_jobs': 9, 'max_depth': 30, 'min_samples_leaf': 10}\n"
     ]
    }
   ],
   "source": [
    "# Optimize a random forest model using grid search\n",
    "rf = RandomForestClassifier()\n",
    "\n",
    "param_grid = {\n",
    "    'n_estimators': [20], \n",
    "    'max_depth': [10, 20, 30],\n",
    "    'max_features': [9],\n",
    "    'n_jobs': [9],\n",
    "    'min_samples_leaf': [10, 20, 30]\n",
    "}\n",
    "\n",
    "grid_rf = GridSearchCV(rf, param_grid, cv=10, verbose=1)\n",
    "grid_rf.fit(X_train, y_train)\n",
    "print(\"#-------- DONE WITH GRID SEARCH.\")\n",
    "best_model = grid_rf.best_estimator_\n",
    "best_params = grid_rf.best_params_ \n",
    "scores = grid_rf.grid_scores_\n",
    "print(best_params)"
   ]
  },
  {
   "cell_type": "code",
   "execution_count": 6,
   "metadata": {
    "collapsed": false
   },
   "outputs": [
    {
     "name": "stdout",
     "output_type": "stream",
     "text": [
      "0.724839513001\n"
     ]
    }
   ],
   "source": [
    "# Calculate cross validation accuracy\n",
    "rf = RandomForestClassifier(n_estimators=30, criterion='entropy', max_features=9, max_depth=30,\n",
    "                            min_samples_leaf = 1, bootstrap=True, oob_score=True, n_jobs=9, random_state=0)\n",
    "print(np.mean(cross_val_score(rf, X_train, y_train, cv=10)))"
   ]
  },
  {
   "cell_type": "code",
   "execution_count": 47,
   "metadata": {
    "collapsed": false
   },
   "outputs": [],
   "source": [
    "# Fit to full training data and table feature importances\n",
    "rf = rf.fit(X_train, y_train)\n",
    "importances = rf.feature_importances_\n",
    "importance = pd.DataFrame(importances, index=X_train.columns, columns=[\"importance\"])\n",
    "# importance.sort('importance', ascending=0)"
   ]
  },
  {
   "cell_type": "code",
   "execution_count": 49,
   "metadata": {
    "collapsed": false
   },
   "outputs": [
    {
     "name": "stdout",
     "output_type": "stream",
     "text": [
      "Training Accuracy = 0.844781\n",
      "Test Accuracy = 0.723377\n"
     ]
    }
   ],
   "source": [
    "# Print train and test accuracy\n",
    "print(\"Training Accuracy = %f\" % accuracy(rf.predict(X_train), y_train))\n",
    "print(\"Test Accuracy = %f\" % accuracy(rf.predict(X_test), y_test))"
   ]
  },
  {
   "cell_type": "code",
   "execution_count": null,
   "metadata": {
    "collapsed": true
   },
   "outputs": [],
   "source": []
  }
 ],
 "metadata": {
  "kernelspec": {
   "display_name": "Python 2",
   "language": "python",
   "name": "python2"
  },
  "language_info": {
   "codemirror_mode": {
    "name": "ipython",
    "version": 2
   },
   "file_extension": ".py",
   "mimetype": "text/x-python",
   "name": "python",
   "nbconvert_exporter": "python",
   "pygments_lexer": "ipython2",
   "version": "2.7.11"
  }
 },
 "nbformat": 4,
 "nbformat_minor": 0
}
