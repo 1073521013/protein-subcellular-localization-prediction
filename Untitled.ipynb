{
 "cells": [
  {
   "cell_type": "code",
   "execution_count": 1,
   "metadata": {
    "collapsed": true
   },
   "outputs": [],
   "source": [
    "import csv"
   ]
  },
  {
   "cell_type": "code",
   "execution_count": 9,
   "metadata": {
    "collapsed": false
   },
   "outputs": [],
   "source": [
    "with open('data/NLS_signals.csv', 'rb') as f:\n",
    "    reader = csv.reader(f)\n",
    "    nls_signal_list = list(reader)\n",
    "    \n",
    "nls_signal_list = nls_signal_list[1:]\n",
    "nls_signal_list = [item for sublist in nls_signal_list for item in sublist]"
   ]
  },
  {
   "cell_type": "code",
   "execution_count": 10,
   "metadata": {
    "collapsed": false
   },
   "outputs": [
    {
     "data": {
      "text/plain": [
       "['TAKRS',\n",
       " 'KKKGSKTS',\n",
       " 'GKISKHWTGI',\n",
       " 'PPTKKIR',\n",
       " 'RKRR',\n",
       " 'KRGKK',\n",
       " 'RKKRR',\n",
       " 'KKSRKEKK',\n",
       " 'SKKRSLED',\n",
       " 'PPRSKKRI',\n",
       " 'KSAKISKPLH',\n",
       " 'KNKEISMP',\n",
       " 'CNKRKYSLN',\n",
       " 'GKRKK',\n",
       " 'EED',\n",
       " 'KKKRER',\n",
       " 'EEKRKR',\n",
       " 'GDRRAAPARP',\n",
       " 'MSERKRREKL',\n",
       " 'KGRKR',\n",
       " 'KILKKRHI',\n",
       " 'KKIR',\n",
       " 'KKYR',\n",
       " 'KKKKRK',\n",
       " 'KSKKQK',\n",
       " 'KSRKRKL',\n",
       " 'KVLKKRRL',\n",
       " 'MVQLRPRASR',\n",
       " 'NYKKPKL',\n",
       " 'PDGKRKRK',\n",
       " 'PKKKSRKSS',\n",
       " 'PLKRKKL',\n",
       " 'PRPR',\n",
       " 'REKKKFLKRR',\n",
       " 'RKRPVRRR',\n",
       " 'RRGLKR',\n",
       " 'RRKRQR',\n",
       " 'RRKRR',\n",
       " 'RRRGL',\n",
       " 'RRRR',\n",
       " 'TKKQKT',\n",
       " 'KKLKKKK',\n",
       " 'RKRKL',\n",
       " 'KRRR',\n",
       " 'PKKLRPP',\n",
       " 'MRKTKLAPT',\n",
       " 'SPS',\n",
       " 'KKKRKR',\n",
       " 'KKGR',\n",
       " 'KHSQSRR',\n",
       " 'KPNKRK',\n",
       " 'KRRK',\n",
       " 'RARKRLK',\n",
       " 'KRRRER',\n",
       " 'KARKRLK',\n",
       " 'KRK',\n",
       " 'KKRR',\n",
       " 'RKRKR',\n",
       " 'KRPR',\n",
       " 'KRCFKKGAR',\n",
       " 'RPRK',\n",
       " 'KQRHLDKKQR',\n",
       " 'KCLKFYSK',\n",
       " 'KRKKRK',\n",
       " 'KRPRSPSS',\n",
       " 'PDRKRLRK',\n",
       " 'PAAKRVKLD',\n",
       " 'RQRRNELKRS',\n",
       " 'RKRRKR',\n",
       " 'KKRKRR',\n",
       " 'RYKMKRAR',\n",
       " 'KCHKDLPR',\n",
       " 'ARKRKPSP',\n",
       " 'RSKR',\n",
       " 'PIKKK',\n",
       " 'GSIIRKWN',\n",
       " 'KRPRP',\n",
       " 'RGRRRRQR',\n",
       " 'RKRRR',\n",
       " 'PRPRKIPR',\n",
       " 'PKKNRLRR',\n",
       " 'KRKRRP',\n",
       " 'SKRVAKRKL',\n",
       " 'PLLKKIKQ',\n",
       " 'PAKRARRG',\n",
       " 'KKEKKKSKK',\n",
       " 'GKKRSKA',\n",
       " 'PRRGPR',\n",
       " 'GKKKYKLKH',\n",
       " 'KKKYKLK',\n",
       " 'KSKKKAQ',\n",
       " 'RRKGKEK',\n",
       " 'RRSMKRK',\n",
       " 'KTRKHRG',\n",
       " 'KHRKHPG',\n",
       " 'KKKKRKREK',\n",
       " 'PQSRKKLR',\n",
       " 'QRKRQK',\n",
       " 'PPQKKIKS',\n",
       " 'PPRKKRTVV',\n",
       " 'PQPKKKP',\n",
       " 'RIRKKLR',\n",
       " 'LKRKLQR',\n",
       " 'RRMKWKK',\n",
       " 'KVTKNKS',\n",
       " 'KRRGKPGP',\n",
       " 'PYLNKRKGKP',\n",
       " 'PKKARED',\n",
       " 'VSRKRPR',\n",
       " 'RVHPYQR',\n",
       " 'KKKRERLD',\n",
       " 'PRRRK',\n",
       " 'RPRRK',\n",
       " 'APTKRKGS',\n",
       " 'PNKKKRK',\n",
       " 'PKKKRKV',\n",
       " 'KKKRRSREK',\n",
       " 'GRKRKKRT',\n",
       " 'KAKRQR',\n",
       " 'IKYFKKFPKD',\n",
       " 'RKRKK',\n",
       " 'GKRQVLIRP',\n",
       " 'GIIKPISKH',\n",
       " 'KKRK',\n",
       " 'KKLKK',\n",
       " 'CSVKRKRDDD',\n",
       " 'RRRK']"
      ]
     },
     "execution_count": 10,
     "metadata": {},
     "output_type": "execute_result"
    }
   ],
   "source": [
    "nls_signal_list"
   ]
  },
  {
   "cell_type": "code",
   "execution_count": null,
   "metadata": {
    "collapsed": true
   },
   "outputs": [],
   "source": []
  }
 ],
 "metadata": {
  "kernelspec": {
   "display_name": "Python 2",
   "language": "python",
   "name": "python2"
  },
  "language_info": {
   "codemirror_mode": {
    "name": "ipython",
    "version": 2
   },
   "file_extension": ".py",
   "mimetype": "text/x-python",
   "name": "python",
   "nbconvert_exporter": "python",
   "pygments_lexer": "ipython2",
   "version": "2.7.11"
  }
 },
 "nbformat": 4,
 "nbformat_minor": 0
}
