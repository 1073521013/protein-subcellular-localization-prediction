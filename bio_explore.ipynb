{
 "cells": [
  {
   "cell_type": "code",
   "execution_count": 33,
   "metadata": {
    "collapsed": false
   },
   "outputs": [],
   "source": [
    "%matplotlib inline\n",
    "import numpy as np\n",
    "import pandas as pd\n",
    "import seaborn as sns\n",
    "import matplotlib.pyplot as plt\n",
    "\n",
    "from collections import OrderedDict\n",
    "from Bio import SeqIO\n",
    "from Bio.SeqUtils import ProtParam\n",
    "from sklearn.model_selection import train_test_split"
   ]
  },
  {
   "cell_type": "code",
   "execution_count": 34,
   "metadata": {
    "collapsed": true
   },
   "outputs": [],
   "source": [
    "amino_acids = ['A', 'C', 'E', 'D', 'G', 'F', 'I', 'H', 'K', 'M', 'L', 'N', 'Q', 'P', 'S', 'R', 'T', 'W', 'V', 'Y']\n",
    "non_amino_letters = ['B', 'J', 'O', 'U', 'X', 'Z']"
   ]
  },
  {
   "cell_type": "code",
   "execution_count": 35,
   "metadata": {
    "collapsed": false
   },
   "outputs": [],
   "source": [
    "def fasta_to_pandas(file):\n",
    "    \"\"\"Takes a fasta sequence file, creates some features and converts to pandas dataframe\"\"\"\n",
    "    fasta_sequences = SeqIO.parse(open(file),'fasta')\n",
    "    \n",
    "    # Create ordered dict (include new features)\n",
    "    fasta_data = OrderedDict()\n",
    "    fasta_data['name'] = []\n",
    "    fasta_data['sequence'] = []\n",
    "    fasta_data['sequence_length'] = []\n",
    "    fasta_data['molecular_weight'] = []\n",
    "    fasta_data['isolectric_point'] = []\n",
    "    fasta_data['aromaticity'] = []\n",
    "    \n",
    "    for amino in amino_acids:\n",
    "        key_string = amino + '_count'\n",
    "        fasta_data[key_string] = []\n",
    "        key_string = amino + '_first50_count'\n",
    "        fasta_data[key_string] = []\n",
    "        key_string = amino + '_last50_count'\n",
    "        fasta_data[key_string] = []\n",
    "        \n",
    "    # Parse fasta files and compute features\n",
    "    for fasta in fasta_sequences:\n",
    "        name, sequence = fasta.id, str(fasta.seq)\n",
    "        fasta_data['name'].append(name)\n",
    "        fasta_data['sequence'].append(sequence)\n",
    "        fasta_data['sequence_length'].append(len(sequence))\n",
    "        \n",
    "        # Remove letters not corresponding to amino acids\n",
    "        for letter in non_amino_letters:\n",
    "            sequence = sequence.replace(letter, '')\n",
    "        \n",
    "        # Compute other features\n",
    "        try:\n",
    "            proto_param = ProtParam.ProteinAnalysis(sequence)\n",
    "            fasta_data['molecular_weight'].append(proto_param.molecular_weight())\n",
    "            fasta_data['isolectric_point'].append(proto_param.isoelectric_point())\n",
    "            fasta_data['aromaticity'].append(proto_param.aromaticity())\n",
    "        except:\n",
    "            print sequence\n",
    "        \n",
    "        for amino in amino_acids:\n",
    "            key_string = amino + '_count'\n",
    "            fasta_data[key_string].append(sequence.count(amino))\n",
    "            key_string = amino + '_first50_count'\n",
    "            fasta_data[key_string].append(sequence[:51].count(amino))\n",
    "            key_string = amino + '_last50_count'\n",
    "            fasta_data[key_string].append(sequence[:51].count(amino))\n",
    "        \n",
    "    return(pd.DataFrame.from_dict(fasta_data))"
   ]
  },
  {
   "cell_type": "code",
   "execution_count": 36,
   "metadata": {
    "collapsed": false
   },
   "outputs": [
    {
     "name": "stdout",
     "output_type": "stream",
     "text": [
      "#-------- Loading and parsing sequence files\n",
      "Loading file cyto...\n",
      "Loading file mito...\n",
      "Loading file nuclear...\n",
      "Loading file secreted...\n",
      "Loading file blind test...\n",
      "#-------- Done.\n"
     ]
    }
   ],
   "source": [
    "print(\"#-------- Loading and parsing sequence files\")\n",
    "\n",
    "# Loading train files\n",
    "train_file_names = ['cyto', 'mito', 'nuclear', 'secreted']\n",
    "train_dfs = []\n",
    "\n",
    "for file_name in train_file_names:\n",
    "    print('Loading file %s...' % file_name)\n",
    "    fasta_df = fasta_to_pandas('data/'+file_name+'.fasta')\n",
    "    fasta_df.insert(loc=2, column='class', value=file_name)\n",
    "    train_dfs.append(fasta_df)    \n",
    "train_full = pd.concat(train_dfs)\n",
    "\n",
    "# Loading blind test file\n",
    "print('Loading file blind test...')\n",
    "blind_test = fasta_to_pandas('data/blind_test.fasta')\n",
    "print(\"#-------- Done.\")"
   ]
  },
  {
   "cell_type": "code",
   "execution_count": 37,
   "metadata": {
    "collapsed": false
   },
   "outputs": [
    {
     "name": "stdout",
     "output_type": "stream",
     "text": [
      "Count for class cyto: 3004\n",
      "Count for class mito: 1299\n",
      "Count for class nuclear: 440\n",
      "Count for class secreted: 1605\n"
     ]
    },
    {
     "data": {
      "text/plain": [
       "<matplotlib.axes._subplots.AxesSubplot at 0x11088a550>"
      ]
     },
     "execution_count": 37,
     "metadata": {},
     "output_type": "execute_result"
    },
    {
     "data": {
      "image/png": "[encoded data removed]",
      "text/plain": [
       "<matplotlib.figure.Figure at 0x11088d850>"
      ]
     },
     "metadata": {},
     "output_type": "display_data"
    }
   ],
   "source": [
    "# Counts per class\n",
    "for file_name in train_file_names:\n",
    "    class_count = sum(train_full['class'] == file_name)\n",
    "    print('Count for class %s: %d' % (file_name, class_count))\n",
    "    \n",
    "# Plot of counts per class\n",
    "sns.set(style=\"whitegrid\", color_codes=True)\n",
    "sns.countplot(x=\"class\", data=train_full)"
   ]
  },
  {
   "cell_type": "code",
   "execution_count": 38,
   "metadata": {
    "collapsed": false
   },
   "outputs": [],
   "source": [
    "# Starting sequence frequency\n",
    "unique_seq = set([seq[-3:] for seq in train_full.sequence])"
   ]
  },
  {
   "cell_type": "code",
   "execution_count": 39,
   "metadata": {
    "collapsed": false
   },
   "outputs": [],
   "source": [
    "# Split into train and test sets and export as CSV files\n",
    "y_train_full = train_full['class']\n",
    "X_train_full = train_full.drop('class', axis=1)\n",
    "X_train, X_test, y_train, y_test = train_test_split(X_train_full, y_train_full, test_size=0.25, random_state=0)\n",
    "\n",
    "train = X_train\n",
    "train.insert(loc=2, column='class', value=y_train)\n",
    "test = X_test\n",
    "test.insert(loc=2, column='class', value=y_test)\n",
    "\n",
    "train.to_csv('data/train.csv', index=False)\n",
    "test.to_csv('data/test.csv', index=False)\n",
    "blind_test.to_csv('data/blind_test.csv', index=False)"
   ]
  },
  {
   "cell_type": "code",
   "execution_count": null,
   "metadata": {
    "collapsed": true
   },
   "outputs": [],
   "source": []
  }
 ],
 "metadata": {
  "kernelspec": {
   "display_name": "Python 2",
   "language": "python",
   "name": "python2"
  },
  "language_info": {
   "codemirror_mode": {
    "name": "ipython",
    "version": 2
   },
   "file_extension": ".py",
   "mimetype": "text/x-python",
   "name": "python",
   "nbconvert_exporter": "python",
   "pygments_lexer": "ipython2",
   "version": "2.7.11"
  }
 },
 "nbformat": 4,
 "nbformat_minor": 0
}
