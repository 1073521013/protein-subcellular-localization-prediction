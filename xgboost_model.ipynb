{
 "cells": [
  {
   "cell_type": "code",
   "execution_count": 30,
   "metadata": {
    "collapsed": false
   },
   "outputs": [],
   "source": [
    "from __future__ import division\n",
    "import numpy as np\n",
    "import pandas as pd\n",
    "import matplotlib.pyplot as plt\n",
    "import xgboost\n",
    "import sys\n",
    "\n",
    "from sklearn.model_selection import train_test_split\n",
    "from sklearn.datasets import make_classification\n",
    "from sklearn.ensemble import ExtraTreesClassifier\n",
    "from sklearn.ensemble import RandomForestClassifier\n",
    "from sklearn.model_selection import cross_val_score\n",
    "from sklearn.model_selection import GridSearchCV\n",
    "from matplotlib import pyplot"
   ]
  },
  {
   "cell_type": "code",
   "execution_count": 31,
   "metadata": {
    "collapsed": true
   },
   "outputs": [],
   "source": [
    "def accuracy(pred, actual):\n",
    "    \"\"\"Returns percentage of correctly classified labels\"\"\"\n",
    "    return sum(pred==actual) / len(actual)"
   ]
  },
  {
   "cell_type": "code",
   "execution_count": 32,
   "metadata": {
    "collapsed": true
   },
   "outputs": [],
   "source": [
    "# Import data and split out labels\n",
    "train = pd.read_csv('data/train.csv')\n",
    "test = pd.read_csv('data/test.csv')\n",
    "\n",
    "# Split into labels, names and data\n",
    "y_train = train['class']\n",
    "names_train = train['name']\n",
    "X_train = train.drop(['class', 'name', 'sequence'], axis=1)\n",
    "\n",
    "y_test = test['class']\n",
    "names_train = test['name']\n",
    "X_test = test.drop(['class', 'name', 'sequence'], axis=1)\n",
    "\n",
    "# Further split train into train and validation sets\n",
    "# X_train, X_val, y_train, y_val = train_test_split(X_train, y_train, test_size=.20, random_state=0)"
   ]
  },
  {
   "cell_type": "code",
   "execution_count": 33,
   "metadata": {
    "collapsed": false
   },
   "outputs": [
    {
     "name": "stdout",
     "output_type": "stream",
     "text": [
      "Fitting 3 folds for each of 1 candidates, totalling 3 fits\n",
      "[CV] colsample_bytree=0.9, learning_rate=0.1, min_child_weight=20, n_estimators=100, subsample=0.7, seed=0, max_depth=20, gamma=0 \n",
      "[CV]  colsample_bytree=0.9, learning_rate=0.1, min_child_weight=20, n_estimators=100, subsample=0.7, seed=0, max_depth=20, gamma=0, total=   7.9s\n",
      "[CV] colsample_bytree=0.9, learning_rate=0.1, min_child_weight=20, n_estimators=100, subsample=0.7, seed=0, max_depth=20, gamma=0 \n",
      "[CV]  colsample_bytree=0.9, learning_rate=0.1, min_child_weight=20, n_estimators=100, subsample=0.7, seed=0, max_depth=20, gamma=0, total=   7.3s\n",
      "[CV] colsample_bytree=0.9, learning_rate=0.1, min_child_weight=20, n_estimators=100, subsample=0.7, seed=0, max_depth=20, gamma=0 \n",
      "[CV]  colsample_bytree=0.9, learning_rate=0.1, min_child_weight=20, n_estimators=100, subsample=0.7, seed=0, max_depth=20, gamma=0, total=   6.8s"
     ]
    },
    {
     "name": "stderr",
     "output_type": "stream",
     "text": [
      "[Parallel(n_jobs=1)]: Done   1 out of   1 | elapsed:    8.1s remaining:    0.0s\n",
      "[Parallel(n_jobs=1)]: Done   3 out of   3 | elapsed:   22.6s finished\n"
     ]
    },
    {
     "name": "stdout",
     "output_type": "stream",
     "text": [
      "\n",
      "#-------- DONE WITH GRID SEARCH.\n",
      "{'colsample_bytree': 0.9, 'learning_rate': 0.1, 'min_child_weight': 20, 'n_estimators': 100, 'subsample': 0.7, 'seed': 0, 'max_depth': 20, 'gamma': 0}\n"
     ]
    }
   ],
   "source": [
    "# Optimize an XGBoost model using grid search\n",
    "xg = xgboost.XGBClassifier(objective='binary:logistic')\n",
    "\n",
    "param_grid = {\n",
    "    'max_depth': [20],\n",
    "    'learning_rate': [0.1],\n",
    "    'n_estimators': [100],\n",
    "    'subsample': [0.7],\n",
    "    'colsample_bytree': [0.9],\n",
    "    'seed': [0],\n",
    "    'gamma': [0],\n",
    "    'min_child_weight': [20]\n",
    "}\n",
    "\n",
    "grid_xg = GridSearchCV(xg, param_grid, cv=3, verbose=2)\n",
    "grid_xg.fit(X_train, y_train)\n",
    "print(\"#-------- DONE WITH GRID SEARCH.\")\n",
    "best_params = grid_xg.best_params_ \n",
    "print(best_params)"
   ]
  },
  {
   "cell_type": "code",
   "execution_count": 34,
   "metadata": {
    "collapsed": false
   },
   "outputs": [
    {
     "ename": "TypeError",
     "evalue": "__init__() got an unexpected keyword argument 'reg_alpha'",
     "output_type": "error",
     "traceback": [
      "\u001b[0;31m---------------------------------------------------------------------------\u001b[0m",
      "\u001b[0;31mTypeError\u001b[0m                                 Traceback (most recent call last)",
      "\u001b[0;32m<ipython-input-34-e989c1f0d2f8>\u001b[0m in \u001b[0;36m<module>\u001b[0;34m()\u001b[0m\n\u001b[1;32m      1\u001b[0m \u001b[0;31m# Calculate cross validation accuracy\u001b[0m\u001b[0;34m\u001b[0m\u001b[0;34m\u001b[0m\u001b[0m\n\u001b[1;32m      2\u001b[0m xg = xgboost.XGBClassifier(objective='binary:logistic', max_depth=15, learning_rate=0.1, n_estimators=100, \n\u001b[0;32m----> 3\u001b[0;31m                            subsample=0.7, colsample_bytree=0.7, gamma=1, min_child_weight=20, reg_alpha=1, seed=0)\n\u001b[0m\u001b[1;32m      4\u001b[0m \u001b[0;32mprint\u001b[0m\u001b[0;34m(\u001b[0m\u001b[0mnp\u001b[0m\u001b[0;34m.\u001b[0m\u001b[0mmean\u001b[0m\u001b[0;34m(\u001b[0m\u001b[0mcross_val_score\u001b[0m\u001b[0;34m(\u001b[0m\u001b[0mxg\u001b[0m\u001b[0;34m,\u001b[0m \u001b[0mX_train\u001b[0m\u001b[0;34m,\u001b[0m \u001b[0my_train\u001b[0m\u001b[0;34m,\u001b[0m \u001b[0mcv\u001b[0m\u001b[0;34m=\u001b[0m\u001b[0;36m3\u001b[0m\u001b[0;34m)\u001b[0m\u001b[0;34m)\u001b[0m\u001b[0;34m)\u001b[0m\u001b[0;34m\u001b[0m\u001b[0m\n\u001b[1;32m      5\u001b[0m \u001b[0;34m\u001b[0m\u001b[0m\n",
      "\u001b[0;31mTypeError\u001b[0m: __init__() got an unexpected keyword argument 'reg_alpha'"
     ]
    }
   ],
   "source": [
    "# Calculate cross validation accuracy\n",
    "xg = xgboost.XGBClassifier(objective='binary:logistic', max_depth=15, learning_rate=0.1, n_estimators=100, \n",
    "                           subsample=0.7, colsample_bytree=0.7, gamma=1, min_child_weight=20, seed=0)\n",
    "print(np.mean(cross_val_score(xg, X_train, y_train, cv=3)))\n",
    "\n",
    "# Fit to full training data and calculate accuracy\n",
    "xg = xg.fit(X_train, y_train)\n",
    "print(\"Training Accuracy = %f\" % accuracy(xg.predict(X_train), y_train))"
   ]
  },
  {
   "cell_type": "code",
   "execution_count": 17,
   "metadata": {
    "collapsed": false
   },
   "outputs": [
    {
     "ename": "AttributeError",
     "evalue": "'XGBClassifier' object has no attribute 'feature_importances_'",
     "output_type": "error",
     "traceback": [
      "\u001b[0;31m---------------------------------------------------------------------------\u001b[0m",
      "\u001b[0;31mAttributeError\u001b[0m                            Traceback (most recent call last)",
      "\u001b[0;32m<ipython-input-17-de135d4ba9ae>\u001b[0m in \u001b[0;36m<module>\u001b[0;34m()\u001b[0m\n\u001b[1;32m      1\u001b[0m \u001b[0;31m# Plot of feature importance\u001b[0m\u001b[0;34m\u001b[0m\u001b[0;34m\u001b[0m\u001b[0m\n\u001b[0;32m----> 2\u001b[0;31m \u001b[0mimportance\u001b[0m \u001b[0;34m=\u001b[0m \u001b[0mxg\u001b[0m\u001b[0;34m.\u001b[0m\u001b[0mfeature_importances_\u001b[0m\u001b[0;34m\u001b[0m\u001b[0m\n\u001b[0m",
      "\u001b[0;31mAttributeError\u001b[0m: 'XGBClassifier' object has no attribute 'feature_importances_'"
     ]
    }
   ],
   "source": [
    "# Plot of feature importance\n",
    "importance = xg.feature_importances_"
   ]
  },
  {
   "cell_type": "code",
   "execution_count": null,
   "metadata": {
    "collapsed": true
   },
   "outputs": [],
   "source": []
  }
 ],
 "metadata": {
  "kernelspec": {
   "display_name": "Python 2",
   "language": "python",
   "name": "python2"
  },
  "language_info": {
   "codemirror_mode": {
    "name": "ipython",
    "version": 2
   },
   "file_extension": ".py",
   "mimetype": "text/x-python",
   "name": "python",
   "nbconvert_exporter": "python",
   "pygments_lexer": "ipython2",
   "version": "2.7.11"
  }
 },
 "nbformat": 4,
 "nbformat_minor": 0
}
