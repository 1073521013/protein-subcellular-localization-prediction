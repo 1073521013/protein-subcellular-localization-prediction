{
 "cells": [
  {
   "cell_type": "code",
   "execution_count": 4,
   "metadata": {
    "collapsed": false
   },
   "outputs": [],
   "source": [
    "from __future__ import division\n",
    "import numpy as np\n",
    "import pandas as pd\n",
    "import matplotlib.pyplot as plt\n",
    "\n",
    "from sklearn.model_selection import train_test_split\n",
    "from sklearn.datasets import make_classification\n",
    "from sklearn.ensemble import ExtraTreesClassifier\n",
    "from sklearn.ensemble import RandomForestClassifier\n",
    "from sklearn.model_selection import cross_val_score\n",
    "from sklearn.model_selection import GridSearchCV"
   ]
  },
  {
   "cell_type": "code",
   "execution_count": 5,
   "metadata": {
    "collapsed": true
   },
   "outputs": [],
   "source": [
    "def accuracy(pred, actual):\n",
    "    \"\"\"Returns percentage of correctly classified labels\"\"\"\n",
    "    return sum(pred==actual) / len(actual)"
   ]
  },
  {
   "cell_type": "code",
   "execution_count": 6,
   "metadata": {
    "collapsed": false
   },
   "outputs": [],
   "source": [
    "# Import data and split out labels\n",
    "train = pd.read_csv('../data/train.csv')\n",
    "test = pd.read_csv('../data/test.csv')\n",
    "\n",
    "# Split into labels, names and data\n",
    "y_train = train['class']\n",
    "names_train = train['name']\n",
    "X_train = train.drop(['class', 'name', 'sequence'], axis=1)\n",
    "\n",
    "y_test = test['class']\n",
    "names_train = test['name']\n",
    "X_test = test.drop(['class', 'name', 'sequence'], axis=1)\n",
    "\n",
    "# Further split train into train and validation sets\n",
    "# X_train, X_val, y_train, y_val = train_test_split(X_train, y_train, test_size=.20, random_state=0)"
   ]
  },
  {
   "cell_type": "code",
   "execution_count": 19,
   "metadata": {
    "collapsed": false
   },
   "outputs": [
    {
     "name": "stdout",
     "output_type": "stream",
     "text": [
      "Fitting 2 folds for each of 12 candidates, totalling 24 fits\n",
      "[CV] max_features=9, n_estimators=90, n_jobs=30, max_depth=22, min_samples_leaf=1 \n",
      "[CV]  max_features=9, n_estimators=90, n_jobs=30, max_depth=22, min_samples_leaf=1, score=0.743385, total=   0.8s\n",
      "[CV] max_features=9, n_estimators=90, n_jobs=30, max_depth=22, min_samples_leaf=1 \n",
      "[CV]  max_features=9, n_estimators=90, n_jobs=30, max_depth=22, min_samples_leaf=1, score=0.738235, total=   0.8s"
     ]
    },
    {
     "name": "stderr",
     "output_type": "stream",
     "text": [
      "[Parallel(n_jobs=1)]: Done   1 out of   1 | elapsed:    0.9s remaining:    0.0s\n",
      "[Parallel(n_jobs=1)]: Done   2 out of   2 | elapsed:    1.8s remaining:    0.0s\n"
     ]
    },
    {
     "name": "stdout",
     "output_type": "stream",
     "text": [
      "\n",
      "[CV] max_features=9, n_estimators=100, n_jobs=30, max_depth=22, min_samples_leaf=1 \n",
      "[CV]  max_features=9, n_estimators=100, n_jobs=30, max_depth=22, min_samples_leaf=1, score=0.739185, total=   0.9s\n",
      "[CV] max_features=9, n_estimators=100, n_jobs=30, max_depth=22, min_samples_leaf=1 \n",
      "[CV]  max_features=9, n_estimators=100, n_jobs=30, max_depth=22, min_samples_leaf=1, score=0.744958, total=   0.8s\n",
      "[CV] max_features=9, n_estimators=150, n_jobs=30, max_depth=22, min_samples_leaf=1 \n",
      "[CV]  max_features=9, n_estimators=150, n_jobs=30, max_depth=22, min_samples_leaf=1, score=0.747585, total=   1.2s\n",
      "[CV] max_features=9, n_estimators=150, n_jobs=30, max_depth=22, min_samples_leaf=1 \n",
      "[CV]  max_features=9, n_estimators=150, n_jobs=30, max_depth=22, min_samples_leaf=1, score=0.739916, total=   1.4s\n",
      "[CV] max_features=9, n_estimators=200, n_jobs=30, max_depth=22, min_samples_leaf=1 \n",
      "[CV]  max_features=9, n_estimators=200, n_jobs=30, max_depth=22, min_samples_leaf=1, score=0.749265, total=   1.5s\n",
      "[CV] max_features=9, n_estimators=200, n_jobs=30, max_depth=22, min_samples_leaf=1 \n",
      "[CV]  max_features=9, n_estimators=200, n_jobs=30, max_depth=22, min_samples_leaf=1, score=0.743697, total=   1.9s\n",
      "[CV] max_features=9, n_estimators=90, n_jobs=30, max_depth=25, min_samples_leaf=1 \n",
      "[CV]  max_features=9, n_estimators=90, n_jobs=30, max_depth=25, min_samples_leaf=1, score=0.742545, total=   0.9s\n",
      "[CV] max_features=9, n_estimators=90, n_jobs=30, max_depth=25, min_samples_leaf=1 \n",
      "[CV]  max_features=9, n_estimators=90, n_jobs=30, max_depth=25, min_samples_leaf=1, score=0.737815, total=   0.9s\n",
      "[CV] max_features=9, n_estimators=100, n_jobs=30, max_depth=25, min_samples_leaf=1 \n",
      "[CV]  max_features=9, n_estimators=100, n_jobs=30, max_depth=25, min_samples_leaf=1, score=0.743805, total=   0.8s\n",
      "[CV] max_features=9, n_estimators=100, n_jobs=30, max_depth=25, min_samples_leaf=1 \n",
      "[CV]  max_features=9, n_estimators=100, n_jobs=30, max_depth=25, min_samples_leaf=1, score=0.744538, total=   0.9s\n",
      "[CV] max_features=9, n_estimators=150, n_jobs=30, max_depth=25, min_samples_leaf=1 \n",
      "[CV]  max_features=9, n_estimators=150, n_jobs=30, max_depth=25, min_samples_leaf=1, score=0.744225, total=   1.3s\n",
      "[CV] max_features=9, n_estimators=150, n_jobs=30, max_depth=25, min_samples_leaf=1 \n",
      "[CV]  max_features=9, n_estimators=150, n_jobs=30, max_depth=25, min_samples_leaf=1, score=0.741176, total=   1.3s\n",
      "[CV] max_features=9, n_estimators=200, n_jobs=30, max_depth=25, min_samples_leaf=1 \n",
      "[CV]  max_features=9, n_estimators=200, n_jobs=30, max_depth=25, min_samples_leaf=1, score=0.749685, total=   1.5s\n",
      "[CV] max_features=9, n_estimators=200, n_jobs=30, max_depth=25, min_samples_leaf=1 \n",
      "[CV]  max_features=9, n_estimators=200, n_jobs=30, max_depth=25, min_samples_leaf=1, score=0.738235, total=   1.5s\n",
      "[CV] max_features=9, n_estimators=90, n_jobs=30, max_depth=30, min_samples_leaf=1 \n",
      "[CV]  max_features=9, n_estimators=90, n_jobs=30, max_depth=30, min_samples_leaf=1, score=0.742125, total=   0.7s\n",
      "[CV] max_features=9, n_estimators=90, n_jobs=30, max_depth=30, min_samples_leaf=1 \n",
      "[CV]  max_features=9, n_estimators=90, n_jobs=30, max_depth=30, min_samples_leaf=1, score=0.735294, total=   0.8s\n",
      "[CV] max_features=9, n_estimators=100, n_jobs=30, max_depth=30, min_samples_leaf=1 \n",
      "[CV]  max_features=9, n_estimators=100, n_jobs=30, max_depth=30, min_samples_leaf=1, score=0.743385, total=   1.0s\n",
      "[CV] max_features=9, n_estimators=100, n_jobs=30, max_depth=30, min_samples_leaf=1 \n",
      "[CV]  max_features=9, n_estimators=100, n_jobs=30, max_depth=30, min_samples_leaf=1, score=0.734874, total=   1.0s\n",
      "[CV] max_features=9, n_estimators=150, n_jobs=30, max_depth=30, min_samples_leaf=1 \n",
      "[CV]  max_features=9, n_estimators=150, n_jobs=30, max_depth=30, min_samples_leaf=1, score=0.745485, total=   1.6s\n",
      "[CV] max_features=9, n_estimators=150, n_jobs=30, max_depth=30, min_samples_leaf=1 \n",
      "[CV]  max_features=9, n_estimators=150, n_jobs=30, max_depth=30, min_samples_leaf=1, score=0.740756, total=   1.4s\n",
      "[CV] max_features=9, n_estimators=200, n_jobs=30, max_depth=30, min_samples_leaf=1 \n",
      "[CV]  max_features=9, n_estimators=200, n_jobs=30, max_depth=30, min_samples_leaf=1, score=0.746325, total=   1.7s\n",
      "[CV] max_features=9, n_estimators=200, n_jobs=30, max_depth=30, min_samples_leaf=1 \n",
      "[CV]  max_features=9, n_estimators=200, n_jobs=30, max_depth=30, min_samples_leaf=1, score=0.742437, total=   1.5s\n",
      "#-------- DONE WITH GRID SEARCH."
     ]
    },
    {
     "name": "stderr",
     "output_type": "stream",
     "text": [
      "[Parallel(n_jobs=1)]: Done  24 out of  24 | elapsed:   32.8s finished\n",
      "/Users/danielfriar/anaconda/lib/python2.7/site-packages/sklearn/model_selection/_search.py:667: DeprecationWarning: The grid_scores_ attribute was deprecated in version 0.18 in favor of the more elaborate cv_results_ attribute. The grid_scores_ attribute will not be available from 0.20\n",
      "  DeprecationWarning)\n"
     ]
    },
    {
     "name": "stdout",
     "output_type": "stream",
     "text": [
      "\n",
      "{'max_features': 9, 'n_estimators': 200, 'n_jobs': 30, 'max_depth': 22, 'min_samples_leaf': 1}\n"
     ]
    }
   ],
   "source": [
    "# Optimize a random forest model using grid search\n",
    "rf = RandomForestClassifier()\n",
    "\n",
    "param_grid = {\n",
    "    'n_estimators': [90, 100, 150, 200], \n",
    "    'max_depth': [22, 25, 30],\n",
    "    'max_features': [9],\n",
    "    'n_jobs': [30],\n",
    "    'min_samples_leaf': [1]\n",
    "}\n",
    "\n",
    "grid_rf = GridSearchCV(rf, param_grid, cv=2, verbose=3)\n",
    "grid_rf.fit(X_train, y_train)\n",
    "print(\"#-------- DONE WITH GRID SEARCH.\")\n",
    "best_model = grid_rf.best_estimator_\n",
    "best_params = grid_rf.best_params_ \n",
    "scores = grid_rf.grid_scores_\n",
    "print(best_params)"
   ]
  },
  {
   "cell_type": "code",
   "execution_count": 21,
   "metadata": {
    "collapsed": false
   },
   "outputs": [
    {
     "name": "stdout",
     "output_type": "stream",
     "text": [
      "0.757614609441\n"
     ]
    }
   ],
   "source": [
    "# Calculate cross validation accuracy\n",
    "rf = RandomForestClassifier(n_estimators=500, criterion='entropy', max_features=9, max_depth=22,\n",
    "                            min_samples_leaf = 1, bootstrap=True, oob_score=True, n_jobs=30, random_state=0)\n",
    "print(np.mean(cross_val_score(rf, X_train, y_train, cv=5)))"
   ]
  },
  {
   "cell_type": "code",
   "execution_count": 22,
   "metadata": {
    "collapsed": false
   },
   "outputs": [],
   "source": [
    "# Fit to full training data and table feature importances\n",
    "rf = rf.fit(X_train, y_train)\n",
    "importances = rf.feature_importances_\n",
    "importance = pd.DataFrame(importances, index=X_train.columns, columns=[\"importance\"])\n",
    "# importance.sort('importance', ascending=0)"
   ]
  },
  {
   "cell_type": "code",
   "execution_count": 23,
   "metadata": {
    "collapsed": false
   },
   "outputs": [
    {
     "name": "stdout",
     "output_type": "stream",
     "text": [
      "Training Accuracy = 1.000000\n",
      "Test Accuracy = 0.746062\n"
     ]
    }
   ],
   "source": [
    "# Print train and test accuracy\n",
    "print(\"Training Accuracy = %f\" % accuracy(rf.predict(X_train), y_train))\n",
    "print(\"Test Accuracy = %f\" % accuracy(rf.predict(X_test), y_test))"
   ]
  },
  {
   "cell_type": "code",
   "execution_count": null,
   "metadata": {
    "collapsed": true
   },
   "outputs": [],
   "source": []
  }
 ],
 "metadata": {
  "kernelspec": {
   "display_name": "Python 2",
   "language": "python",
   "name": "python2"
  },
  "language_info": {
   "codemirror_mode": {
    "name": "ipython",
    "version": 2
   },
   "file_extension": ".py",
   "mimetype": "text/x-python",
   "name": "python",
   "nbconvert_exporter": "python",
   "pygments_lexer": "ipython2",
   "version": "2.7.11"
  }
 },
 "nbformat": 4,
 "nbformat_minor": 0
}
